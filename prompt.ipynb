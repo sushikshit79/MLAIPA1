{
 "cells": [
  {
   "cell_type": "markdown",
   "metadata": {
    "id": "CcUT6Fon_qRE"
   },
   "source": [
    "### Required Assignment 5.1: Will the Customer Accept the Coupon?\n",
    "\n",
    "**Context**\n",
    "\n",
    "Imagine driving through town and a coupon is delivered to your cell phone for a restaurant near where you are driving. Would you accept that coupon and take a short detour to the restaurant? Would you accept the coupon but use it on a subsequent trip? Would you ignore the coupon entirely? What if the coupon was for a bar instead of a restaurant? What about a coffee house? Would you accept a bar coupon with a minor passenger in the car? What about if it was just you and your partner in the car? Would weather impact the rate of acceptance? What about the time of day?\n",
    "\n",
    "Obviously, proximity to the business is a factor on whether the coupon is delivered to the driver or not, but what are the factors that determine whether a driver accepts the coupon once it is delivered to them? How would you determine whether a driver is likely to accept a coupon?\n",
    "\n",
    "**Overview**\n",
    "\n",
    "The goal of this project is to use what you know about visualizations and probability distributions to distinguish between customers who accepted a driving coupon versus those that did not.\n",
    "\n",
    "**Data**\n",
    "\n",
    "This data comes to us from the UCI Machine Learning repository and was collected via a survey on Amazon Mechanical Turk. The survey describes different driving scenarios including the destination, current time, weather, passenger, etc., and then ask the person whether he will accept the coupon if he is the driver. Answers that the user will drive there ‘right away’ or ‘later before the coupon expires’ are labeled as ‘Y = 1’ and answers ‘no, I do not want the coupon’ are labeled as ‘Y = 0’.  There are five different types of coupons -- less expensive restaurants (under \\$20), coffee houses, carry out & take away, bar, and more expensive restaurants (\\$20 - $50)."
   ]
  },
  {
   "cell_type": "markdown",
   "metadata": {
    "id": "1wORvMBJ_qRF"
   },
   "source": [
    "**Deliverables**\n",
    "\n",
    "Your final product should be a brief report that highlights the differences between customers who did and did not accept the coupons.  To explore the data you will utilize your knowledge of plotting, statistical summaries, and visualization using Python. You will publish your findings in a public facing github repository as your first portfolio piece.\n",
    "\n",
    "\n",
    "\n"
   ]
  },
  {
   "cell_type": "markdown",
   "metadata": {
    "id": "pG6_Ym6q_qRG"
   },
   "source": [
    "### Data Description\n",
    "Keep in mind that these values mentioned below are average values.\n",
    "\n",
    "The attributes of this data set include:\n",
    "1. User attributes\n",
    "    -  Gender: male, female\n",
    "    -  Age: below 21, 21 to 25, 26 to 30, etc.\n",
    "    -  Marital Status: single, married partner, unmarried partner, or widowed\n",
    "    -  Number of children: 0, 1, or more than 1\n",
    "    -  Education: high school, bachelors degree, associates degree, or graduate degree\n",
    "    -  Occupation: architecture & engineering, business & financial, etc.\n",
    "    -  Annual income: less than \\\\$12500, \\\\$12500 - \\\\$24999, \\\\$25000 - \\\\$37499, etc.\n",
    "    -  Number of times that he/she goes to a bar: 0, less than 1, 1 to 3, 4 to 8 or greater than 8\n",
    "    -  Number of times that he/she buys takeaway food: 0, less than 1, 1 to 3, 4 to 8 or greater\n",
    "    than 8\n",
    "    -  Number of times that he/she goes to a coffee house: 0, less than 1, 1 to 3, 4 to 8 or\n",
    "    greater than 8\n",
    "    -  Number of times that he/she eats at a restaurant with average expense less than \\\\$20 per\n",
    "    person: 0, less than 1, 1 to 3, 4 to 8 or greater than 8\n",
    "    -  Number of times that he/she goes to a bar: 0, less than 1, 1 to 3, 4 to 8 or greater than 8\n",
    "    \n",
    "\n",
    "2. Contextual attributes\n",
    "    - Driving destination: home, work, or no urgent destination\n",
    "    - Location of user, coupon and destination: we provide a map to show the geographical\n",
    "    location of the user, destination, and the venue, and we mark the distance between each\n",
    "    two places with time of driving. The user can see whether the venue is in the same\n",
    "    direction as the destination.\n",
    "    - Weather: sunny, rainy, or snowy\n",
    "    - Temperature: 30F, 55F, or 80F\n",
    "    - Time: 10AM, 2PM, or 6PM\n",
    "    - Passenger: alone, partner, kid(s), or friend(s)\n",
    "\n",
    "\n",
    "3. Coupon attributes\n",
    "    - time before it expires: 2 hours or one day"
   ]
  },
  {
   "cell_type": "code",
   "execution_count": 155,
   "metadata": {
    "id": "dzNoP3o__qRG"
   },
   "outputs": [],
   "source": [
    "import matplotlib.pyplot as plt\n",
    "import seaborn as sns\n",
    "import pandas as pd\n",
    "import numpy as np"
   ]
  },
  {
   "cell_type": "markdown",
   "metadata": {
    "id": "Ct8pI1uE_qRG"
   },
   "source": [
    "### Problems\n",
    "\n",
    "Use the prompts below to get started with your data analysis.  \n",
    "\n",
    "1. Read in the `coupons.csv` file.\n",
    "\n",
    "\n"
   ]
  },
  {
   "cell_type": "code",
   "execution_count": 174,
   "metadata": {
    "id": "X0vbffYg_qRH"
   },
   "outputs": [],
   "source": [
    "data = pd.read_csv('data/coupons.csv')"
   ]
  },
  {
   "cell_type": "code",
   "execution_count": 175,
   "metadata": {
    "id": "TXofQ_DF_qRH",
    "outputId": "2fc96a2c-1112-4b54-f24f-dbb9bc88abfb"
   },
   "outputs": [
    {
     "data": {
      "text/html": [
       "<div>\n",
       "<style scoped>\n",
       "    .dataframe tbody tr th:only-of-type {\n",
       "        vertical-align: middle;\n",
       "    }\n",
       "\n",
       "    .dataframe tbody tr th {\n",
       "        vertical-align: top;\n",
       "    }\n",
       "\n",
       "    .dataframe thead th {\n",
       "        text-align: right;\n",
       "    }\n",
       "</style>\n",
       "<table border=\"1\" class=\"dataframe\">\n",
       "  <thead>\n",
       "    <tr style=\"text-align: right;\">\n",
       "      <th></th>\n",
       "      <th>destination</th>\n",
       "      <th>passanger</th>\n",
       "      <th>weather</th>\n",
       "      <th>temperature</th>\n",
       "      <th>time</th>\n",
       "      <th>coupon</th>\n",
       "      <th>expiration</th>\n",
       "      <th>gender</th>\n",
       "      <th>age</th>\n",
       "      <th>maritalStatus</th>\n",
       "      <th>...</th>\n",
       "      <th>CoffeeHouse</th>\n",
       "      <th>CarryAway</th>\n",
       "      <th>RestaurantLessThan20</th>\n",
       "      <th>Restaurant20To50</th>\n",
       "      <th>toCoupon_GEQ5min</th>\n",
       "      <th>toCoupon_GEQ15min</th>\n",
       "      <th>toCoupon_GEQ25min</th>\n",
       "      <th>direction_same</th>\n",
       "      <th>direction_opp</th>\n",
       "      <th>Y</th>\n",
       "    </tr>\n",
       "  </thead>\n",
       "  <tbody>\n",
       "    <tr>\n",
       "      <th>0</th>\n",
       "      <td>No Urgent Place</td>\n",
       "      <td>Alone</td>\n",
       "      <td>Sunny</td>\n",
       "      <td>55</td>\n",
       "      <td>2PM</td>\n",
       "      <td>Restaurant(&lt;20)</td>\n",
       "      <td>1d</td>\n",
       "      <td>Female</td>\n",
       "      <td>21</td>\n",
       "      <td>Unmarried partner</td>\n",
       "      <td>...</td>\n",
       "      <td>never</td>\n",
       "      <td>NaN</td>\n",
       "      <td>4~8</td>\n",
       "      <td>1~3</td>\n",
       "      <td>1</td>\n",
       "      <td>0</td>\n",
       "      <td>0</td>\n",
       "      <td>0</td>\n",
       "      <td>1</td>\n",
       "      <td>1</td>\n",
       "    </tr>\n",
       "    <tr>\n",
       "      <th>1</th>\n",
       "      <td>No Urgent Place</td>\n",
       "      <td>Friend(s)</td>\n",
       "      <td>Sunny</td>\n",
       "      <td>80</td>\n",
       "      <td>10AM</td>\n",
       "      <td>Coffee House</td>\n",
       "      <td>2h</td>\n",
       "      <td>Female</td>\n",
       "      <td>21</td>\n",
       "      <td>Unmarried partner</td>\n",
       "      <td>...</td>\n",
       "      <td>never</td>\n",
       "      <td>NaN</td>\n",
       "      <td>4~8</td>\n",
       "      <td>1~3</td>\n",
       "      <td>1</td>\n",
       "      <td>0</td>\n",
       "      <td>0</td>\n",
       "      <td>0</td>\n",
       "      <td>1</td>\n",
       "      <td>0</td>\n",
       "    </tr>\n",
       "    <tr>\n",
       "      <th>2</th>\n",
       "      <td>No Urgent Place</td>\n",
       "      <td>Friend(s)</td>\n",
       "      <td>Sunny</td>\n",
       "      <td>80</td>\n",
       "      <td>10AM</td>\n",
       "      <td>Carry out &amp; Take away</td>\n",
       "      <td>2h</td>\n",
       "      <td>Female</td>\n",
       "      <td>21</td>\n",
       "      <td>Unmarried partner</td>\n",
       "      <td>...</td>\n",
       "      <td>never</td>\n",
       "      <td>NaN</td>\n",
       "      <td>4~8</td>\n",
       "      <td>1~3</td>\n",
       "      <td>1</td>\n",
       "      <td>1</td>\n",
       "      <td>0</td>\n",
       "      <td>0</td>\n",
       "      <td>1</td>\n",
       "      <td>1</td>\n",
       "    </tr>\n",
       "    <tr>\n",
       "      <th>3</th>\n",
       "      <td>No Urgent Place</td>\n",
       "      <td>Friend(s)</td>\n",
       "      <td>Sunny</td>\n",
       "      <td>80</td>\n",
       "      <td>2PM</td>\n",
       "      <td>Coffee House</td>\n",
       "      <td>2h</td>\n",
       "      <td>Female</td>\n",
       "      <td>21</td>\n",
       "      <td>Unmarried partner</td>\n",
       "      <td>...</td>\n",
       "      <td>never</td>\n",
       "      <td>NaN</td>\n",
       "      <td>4~8</td>\n",
       "      <td>1~3</td>\n",
       "      <td>1</td>\n",
       "      <td>1</td>\n",
       "      <td>0</td>\n",
       "      <td>0</td>\n",
       "      <td>1</td>\n",
       "      <td>0</td>\n",
       "    </tr>\n",
       "    <tr>\n",
       "      <th>4</th>\n",
       "      <td>No Urgent Place</td>\n",
       "      <td>Friend(s)</td>\n",
       "      <td>Sunny</td>\n",
       "      <td>80</td>\n",
       "      <td>2PM</td>\n",
       "      <td>Coffee House</td>\n",
       "      <td>1d</td>\n",
       "      <td>Female</td>\n",
       "      <td>21</td>\n",
       "      <td>Unmarried partner</td>\n",
       "      <td>...</td>\n",
       "      <td>never</td>\n",
       "      <td>NaN</td>\n",
       "      <td>4~8</td>\n",
       "      <td>1~3</td>\n",
       "      <td>1</td>\n",
       "      <td>1</td>\n",
       "      <td>0</td>\n",
       "      <td>0</td>\n",
       "      <td>1</td>\n",
       "      <td>0</td>\n",
       "    </tr>\n",
       "  </tbody>\n",
       "</table>\n",
       "<p>5 rows × 26 columns</p>\n",
       "</div>"
      ],
      "text/plain": [
       "       destination  passanger weather  temperature  time  \\\n",
       "0  No Urgent Place      Alone   Sunny           55   2PM   \n",
       "1  No Urgent Place  Friend(s)   Sunny           80  10AM   \n",
       "2  No Urgent Place  Friend(s)   Sunny           80  10AM   \n",
       "3  No Urgent Place  Friend(s)   Sunny           80   2PM   \n",
       "4  No Urgent Place  Friend(s)   Sunny           80   2PM   \n",
       "\n",
       "                  coupon expiration  gender age      maritalStatus  ...  \\\n",
       "0        Restaurant(<20)         1d  Female  21  Unmarried partner  ...   \n",
       "1           Coffee House         2h  Female  21  Unmarried partner  ...   \n",
       "2  Carry out & Take away         2h  Female  21  Unmarried partner  ...   \n",
       "3           Coffee House         2h  Female  21  Unmarried partner  ...   \n",
       "4           Coffee House         1d  Female  21  Unmarried partner  ...   \n",
       "\n",
       "   CoffeeHouse CarryAway RestaurantLessThan20 Restaurant20To50  \\\n",
       "0        never       NaN                  4~8              1~3   \n",
       "1        never       NaN                  4~8              1~3   \n",
       "2        never       NaN                  4~8              1~3   \n",
       "3        never       NaN                  4~8              1~3   \n",
       "4        never       NaN                  4~8              1~3   \n",
       "\n",
       "  toCoupon_GEQ5min toCoupon_GEQ15min toCoupon_GEQ25min direction_same  \\\n",
       "0                1                 0                 0              0   \n",
       "1                1                 0                 0              0   \n",
       "2                1                 1                 0              0   \n",
       "3                1                 1                 0              0   \n",
       "4                1                 1                 0              0   \n",
       "\n",
       "  direction_opp  Y  \n",
       "0             1  1  \n",
       "1             1  0  \n",
       "2             1  1  \n",
       "3             1  0  \n",
       "4             1  0  \n",
       "\n",
       "[5 rows x 26 columns]"
      ]
     },
     "execution_count": 175,
     "metadata": {},
     "output_type": "execute_result"
    }
   ],
   "source": [
    "data.head()"
   ]
  },
  {
   "cell_type": "markdown",
   "metadata": {
    "id": "GcDs78ZH_qRH"
   },
   "source": [
    "2. Investigate the dataset for missing or problematic data."
   ]
  },
  {
   "cell_type": "code",
   "execution_count": 176,
   "metadata": {
    "id": "6CwL6oWj_qRH"
   },
   "outputs": [
    {
     "name": "stdout",
     "output_type": "stream",
     "text": [
      "<class 'pandas.core.frame.DataFrame'>\n",
      "RangeIndex: 12684 entries, 0 to 12683\n",
      "Data columns (total 26 columns):\n",
      " #   Column                Non-Null Count  Dtype \n",
      "---  ------                --------------  ----- \n",
      " 0   destination           12684 non-null  object\n",
      " 1   passanger             12684 non-null  object\n",
      " 2   weather               12684 non-null  object\n",
      " 3   temperature           12684 non-null  int64 \n",
      " 4   time                  12684 non-null  object\n",
      " 5   coupon                12684 non-null  object\n",
      " 6   expiration            12684 non-null  object\n",
      " 7   gender                12684 non-null  object\n",
      " 8   age                   12684 non-null  object\n",
      " 9   maritalStatus         12684 non-null  object\n",
      " 10  has_children          12684 non-null  int64 \n",
      " 11  education             12684 non-null  object\n",
      " 12  occupation            12684 non-null  object\n",
      " 13  income                12684 non-null  object\n",
      " 14  car                   108 non-null    object\n",
      " 15  Bar                   12577 non-null  object\n",
      " 16  CoffeeHouse           12467 non-null  object\n",
      " 17  CarryAway             12533 non-null  object\n",
      " 18  RestaurantLessThan20  12554 non-null  object\n",
      " 19  Restaurant20To50      12495 non-null  object\n",
      " 20  toCoupon_GEQ5min      12684 non-null  int64 \n",
      " 21  toCoupon_GEQ15min     12684 non-null  int64 \n",
      " 22  toCoupon_GEQ25min     12684 non-null  int64 \n",
      " 23  direction_same        12684 non-null  int64 \n",
      " 24  direction_opp         12684 non-null  int64 \n",
      " 25  Y                     12684 non-null  int64 \n",
      "dtypes: int64(8), object(18)\n",
      "memory usage: 2.5+ MB\n"
     ]
    }
   ],
   "source": [
    "# data['car'].isnull().sum()\n",
    "data.isnull().sum()\n",
    "data.info()"
   ]
  },
  {
   "cell_type": "markdown",
   "metadata": {
    "id": "bSdVSpYB_qRH"
   },
   "source": [
    "3. Decide what to do about your missing data -- drop, replace, other..."
   ]
  },
  {
   "cell_type": "code",
   "execution_count": 317,
   "metadata": {
    "id": "tyvoAC5F_qRI"
   },
   "outputs": [
    {
     "name": "stdout",
     "output_type": "stream",
     "text": [
      "12079\n"
     ]
    }
   ],
   "source": [
    "# Based on missing data it shows that Cars column mostly has missing data. The number of records in the coupons\n",
    "# file is 12684 of which car columns has missing data for 12576 rows. So cars column is not of much consequence, while other columns like  Bar, Coffeehouse, Carryaway\n",
    "# RestaurantLessThan20,Restaurant20To50 togther has total of 794 missing rows. This constitutes to 6% of total data\n",
    "#Cleaned data for ages to remove strings to allow for comparison at age level\n",
    "# which on ommission should not impact the whole data set. \n",
    "# Drop the missing data\n",
    "columns_to_consider = [col for col in data.columns if col != 'car']\n",
    "data_cleaned = data.dropna(subset=columns_to_consider)\n",
    "print(data_cleaned.shape[0])"
   ]
  },
  {
   "cell_type": "markdown",
   "metadata": {
    "id": "YE6oJbXd_qRI"
   },
   "source": [
    "4. What proportion of the total observations chose to accept the coupon?\n",
    "\n"
   ]
  },
  {
   "cell_type": "code",
   "execution_count": 318,
   "metadata": {
    "id": "86GGqBTv_qRI"
   },
   "outputs": [
    {
     "name": "stdout",
     "output_type": "stream",
     "text": [
      "Number of accepted coupons  6877\n",
      "Proportion of accepted coupons  56.93352098683666\n"
     ]
    }
   ],
   "source": [
    "accepted_coupons = data_cleaned[data_cleaned['Y']==1].shape[0]\n",
    "print('Number of accepted coupons ', accepted_coupons)\n",
    "#proportion of coupons that were accepted\n",
    "per_of_coupons_accepted = (accepted_coupons/data_cleaned.shape[0])*100\n",
    "print('Proportion of accepted coupons ', per_of_coupons_accepted)"
   ]
  },
  {
   "cell_type": "markdown",
   "metadata": {
    "id": "vflz0DoE_qRI"
   },
   "source": [
    "5. Use a bar plot to visualize the `coupon` column."
   ]
  },
  {
   "cell_type": "code",
   "execution_count": 367,
   "metadata": {
    "id": "dHFh3E45_qRI"
   },
   "outputs": [
    {
     "data": {
      "image/png": "[encoded data removed]",
      "text/plain": [
       "<Figure size 1000x600 with 1 Axes>"
      ]
     },
     "metadata": {},
     "output_type": "display_data"
    }
   ],
   "source": [
    "plt.figure(figsize=(10,6))\n",
    "sns.countplot(data_cleaned, x=\"coupon\")\n",
    "plt.title(\"Count of different types of coupons\")\n",
    "plt.savefig('images/couponcount.png')\n",
    "plt.show()"
   ]
  },
  {
   "cell_type": "markdown",
   "metadata": {
    "id": "Qw4lCyx2_qRI"
   },
   "source": [
    "6. Use a histogram to visualize the temperature column."
   ]
  },
  {
   "cell_type": "code",
   "execution_count": 368,
   "metadata": {
    "id": "Yg9Anv71_qRI"
   },
   "outputs": [
    {
     "data": {
      "image/png": "[encoded data removed]",
      "text/plain": [
       "<Figure size 1000x600 with 1 Axes>"
      ]
     },
     "metadata": {},
     "output_type": "display_data"
    }
   ],
   "source": [
    "plt.figure(figsize=(10,6))\n",
    "sns.histplot(data_cleaned, x=\"temperature\", kde = True)\n",
    "plt.title(\"Temperature Histogram\")\n",
    "plt.savefig('images/temperature.png')\n",
    "plt.show()"
   ]
  },
  {
   "cell_type": "code",
   "execution_count": null,
   "metadata": {
    "id": "zLtOaJQk_qRI"
   },
   "outputs": [],
   "source": []
  },
  {
   "cell_type": "code",
   "execution_count": null,
   "metadata": {
    "id": "7GBHZKBp_qRJ"
   },
   "outputs": [],
   "source": []
  },
  {
   "cell_type": "code",
   "execution_count": null,
   "metadata": {
    "id": "Y5nBUA-j_qRJ"
   },
   "outputs": [],
   "source": []
  },
  {
   "cell_type": "code",
   "execution_count": null,
   "metadata": {
    "id": "ShcUC-Vm_qRJ"
   },
   "outputs": [],
   "source": []
  },
  {
   "cell_type": "markdown",
   "metadata": {
    "id": "FupfgeJk_qRJ"
   },
   "source": [
    "**Investigating the Bar Coupons**\n",
    "\n",
    "Now, we will lead you through an exploration of just the bar related coupons.  \n",
    "\n",
    "1. Create a new `DataFrame` that contains just the bar coupons.\n"
   ]
  },
  {
   "cell_type": "code",
   "execution_count": 321,
   "metadata": {
    "id": "tMBlWuGq_qRJ"
   },
   "outputs": [
    {
     "data": {
      "text/html": [
       "<div>\n",
       "<style scoped>\n",
       "    .dataframe tbody tr th:only-of-type {\n",
       "        vertical-align: middle;\n",
       "    }\n",
       "\n",
       "    .dataframe tbody tr th {\n",
       "        vertical-align: top;\n",
       "    }\n",
       "\n",
       "    .dataframe thead th {\n",
       "        text-align: right;\n",
       "    }\n",
       "</style>\n",
       "<table border=\"1\" class=\"dataframe\">\n",
       "  <thead>\n",
       "    <tr style=\"text-align: right;\">\n",
       "      <th></th>\n",
       "      <th>destination</th>\n",
       "      <th>passanger</th>\n",
       "      <th>weather</th>\n",
       "      <th>temperature</th>\n",
       "      <th>time</th>\n",
       "      <th>coupon</th>\n",
       "      <th>expiration</th>\n",
       "      <th>gender</th>\n",
       "      <th>age</th>\n",
       "      <th>maritalStatus</th>\n",
       "      <th>...</th>\n",
       "      <th>CoffeeHouse</th>\n",
       "      <th>CarryAway</th>\n",
       "      <th>RestaurantLessThan20</th>\n",
       "      <th>Restaurant20To50</th>\n",
       "      <th>toCoupon_GEQ5min</th>\n",
       "      <th>toCoupon_GEQ15min</th>\n",
       "      <th>toCoupon_GEQ25min</th>\n",
       "      <th>direction_same</th>\n",
       "      <th>direction_opp</th>\n",
       "      <th>Y</th>\n",
       "    </tr>\n",
       "  </thead>\n",
       "  <tbody>\n",
       "    <tr>\n",
       "      <th>24</th>\n",
       "      <td>No Urgent Place</td>\n",
       "      <td>Friend(s)</td>\n",
       "      <td>Sunny</td>\n",
       "      <td>80</td>\n",
       "      <td>10AM</td>\n",
       "      <td>Bar</td>\n",
       "      <td>1d</td>\n",
       "      <td>Male</td>\n",
       "      <td>21</td>\n",
       "      <td>Single</td>\n",
       "      <td>...</td>\n",
       "      <td>less1</td>\n",
       "      <td>4~8</td>\n",
       "      <td>4~8</td>\n",
       "      <td>less1</td>\n",
       "      <td>1</td>\n",
       "      <td>0</td>\n",
       "      <td>0</td>\n",
       "      <td>0</td>\n",
       "      <td>1</td>\n",
       "      <td>1</td>\n",
       "    </tr>\n",
       "    <tr>\n",
       "      <th>35</th>\n",
       "      <td>Home</td>\n",
       "      <td>Alone</td>\n",
       "      <td>Sunny</td>\n",
       "      <td>55</td>\n",
       "      <td>6PM</td>\n",
       "      <td>Bar</td>\n",
       "      <td>1d</td>\n",
       "      <td>Male</td>\n",
       "      <td>21</td>\n",
       "      <td>Single</td>\n",
       "      <td>...</td>\n",
       "      <td>less1</td>\n",
       "      <td>4~8</td>\n",
       "      <td>4~8</td>\n",
       "      <td>less1</td>\n",
       "      <td>1</td>\n",
       "      <td>0</td>\n",
       "      <td>0</td>\n",
       "      <td>1</td>\n",
       "      <td>0</td>\n",
       "      <td>1</td>\n",
       "    </tr>\n",
       "    <tr>\n",
       "      <th>39</th>\n",
       "      <td>Work</td>\n",
       "      <td>Alone</td>\n",
       "      <td>Sunny</td>\n",
       "      <td>55</td>\n",
       "      <td>7AM</td>\n",
       "      <td>Bar</td>\n",
       "      <td>1d</td>\n",
       "      <td>Male</td>\n",
       "      <td>21</td>\n",
       "      <td>Single</td>\n",
       "      <td>...</td>\n",
       "      <td>less1</td>\n",
       "      <td>4~8</td>\n",
       "      <td>4~8</td>\n",
       "      <td>less1</td>\n",
       "      <td>1</td>\n",
       "      <td>1</td>\n",
       "      <td>1</td>\n",
       "      <td>0</td>\n",
       "      <td>1</td>\n",
       "      <td>1</td>\n",
       "    </tr>\n",
       "    <tr>\n",
       "      <th>46</th>\n",
       "      <td>No Urgent Place</td>\n",
       "      <td>Friend(s)</td>\n",
       "      <td>Sunny</td>\n",
       "      <td>80</td>\n",
       "      <td>10AM</td>\n",
       "      <td>Bar</td>\n",
       "      <td>1d</td>\n",
       "      <td>Male</td>\n",
       "      <td>46</td>\n",
       "      <td>Single</td>\n",
       "      <td>...</td>\n",
       "      <td>4~8</td>\n",
       "      <td>1~3</td>\n",
       "      <td>1~3</td>\n",
       "      <td>never</td>\n",
       "      <td>1</td>\n",
       "      <td>0</td>\n",
       "      <td>0</td>\n",
       "      <td>0</td>\n",
       "      <td>1</td>\n",
       "      <td>0</td>\n",
       "    </tr>\n",
       "    <tr>\n",
       "      <th>57</th>\n",
       "      <td>Home</td>\n",
       "      <td>Alone</td>\n",
       "      <td>Sunny</td>\n",
       "      <td>55</td>\n",
       "      <td>6PM</td>\n",
       "      <td>Bar</td>\n",
       "      <td>1d</td>\n",
       "      <td>Male</td>\n",
       "      <td>46</td>\n",
       "      <td>Single</td>\n",
       "      <td>...</td>\n",
       "      <td>4~8</td>\n",
       "      <td>1~3</td>\n",
       "      <td>1~3</td>\n",
       "      <td>never</td>\n",
       "      <td>1</td>\n",
       "      <td>0</td>\n",
       "      <td>0</td>\n",
       "      <td>1</td>\n",
       "      <td>0</td>\n",
       "      <td>0</td>\n",
       "    </tr>\n",
       "  </tbody>\n",
       "</table>\n",
       "<p>5 rows × 26 columns</p>\n",
       "</div>"
      ],
      "text/plain": [
       "        destination  passanger weather  temperature  time coupon expiration  \\\n",
       "24  No Urgent Place  Friend(s)   Sunny           80  10AM    Bar         1d   \n",
       "35             Home      Alone   Sunny           55   6PM    Bar         1d   \n",
       "39             Work      Alone   Sunny           55   7AM    Bar         1d   \n",
       "46  No Urgent Place  Friend(s)   Sunny           80  10AM    Bar         1d   \n",
       "57             Home      Alone   Sunny           55   6PM    Bar         1d   \n",
       "\n",
       "   gender age maritalStatus  ...  CoffeeHouse CarryAway RestaurantLessThan20  \\\n",
       "24   Male  21        Single  ...        less1       4~8                  4~8   \n",
       "35   Male  21        Single  ...        less1       4~8                  4~8   \n",
       "39   Male  21        Single  ...        less1       4~8                  4~8   \n",
       "46   Male  46        Single  ...          4~8       1~3                  1~3   \n",
       "57   Male  46        Single  ...          4~8       1~3                  1~3   \n",
       "\n",
       "   Restaurant20To50 toCoupon_GEQ5min toCoupon_GEQ15min toCoupon_GEQ25min  \\\n",
       "24            less1                1                 0                 0   \n",
       "35            less1                1                 0                 0   \n",
       "39            less1                1                 1                 1   \n",
       "46            never                1                 0                 0   \n",
       "57            never                1                 0                 0   \n",
       "\n",
       "   direction_same direction_opp  Y  \n",
       "24              0             1  1  \n",
       "35              1             0  1  \n",
       "39              0             1  1  \n",
       "46              0             1  0  \n",
       "57              1             0  0  \n",
       "\n",
       "[5 rows x 26 columns]"
      ]
     },
     "execution_count": 321,
     "metadata": {},
     "output_type": "execute_result"
    }
   ],
   "source": [
    "bar_coupon_df = data_cleaned[data_cleaned['coupon']=='Bar']\n",
    "bar_coupon_df.head()"
   ]
  },
  {
   "cell_type": "markdown",
   "metadata": {
    "id": "8ue6uCqf_qRJ"
   },
   "source": [
    "2. What proportion of bar coupons were accepted?\n"
   ]
  },
  {
   "cell_type": "code",
   "execution_count": 322,
   "metadata": {
    "id": "hSdte8Mi_qRK"
   },
   "outputs": [
    {
     "name": "stdout",
     "output_type": "stream",
     "text": [
      "Total Bar Coupons:  1913\n",
      "Bar coupons accepted:  788\n",
      "Proportion of bar coupons accepted is 41.19%\n"
     ]
    }
   ],
   "source": [
    "total_bar_coupons = bar_coupon_df.shape[0]\n",
    "print('Total Bar Coupons: ', total_bar_coupons)\n",
    "bar_coupons_accepted = bar_coupon_df[bar_coupon_df['Y']==1].shape[0]\n",
    "print('Bar coupons accepted: ',bar_coupons_accepted)\n",
    "bar_coupons_accepted_proportion = round(((bar_coupons_accepted/total_bar_coupons)*100),2)\n",
    "print(\"Proportion of bar coupons accepted is \"+ str(bar_coupons_accepted_proportion)+\"%\")"
   ]
  },
  {
   "cell_type": "markdown",
   "metadata": {
    "id": "85nA_iEi_qRK"
   },
   "source": [
    "3. Compare the acceptance rate between those who went to a bar 3 or fewer times a month to those who went more.\n"
   ]
  },
  {
   "cell_type": "code",
   "execution_count": 323,
   "metadata": {
    "id": "LBOrN-XM_qRK"
   },
   "outputs": [
    {
     "name": "stdout",
     "output_type": "stream",
     "text": [
      "Number of coupons accepted by those who went to a bar 3 or fewer times:  641\n",
      "Number of coupons accepted by those who went to a bar more than 3:  147\n",
      "Acceptance rate between those who went to a bar 3 or fewer times a month to those who went more had a higher \n",
      "chance to accept the coupon by:  25.83\n"
     ]
    }
   ],
   "source": [
    "bar_coupon_df['Bar'].unique()\n",
    "three_or_less=['never', 'less1', '1~3']\n",
    "more_than_3 = ['gt8', '4~8']\n",
    "accepted = [1]\n",
    "three_or_less_accepted = bar_coupon_df[bar_coupon_df['Bar'].isin(three_or_less) & bar_coupon_df['Y'].isin(accepted)].shape[0]\n",
    "more_than_3_accpeted = bar_coupon_df[bar_coupon_df['Bar'].isin(more_than_3) & bar_coupon_df['Y'].isin(accepted)].shape[0]\n",
    "print(\"Number of coupons accepted by those who went to a bar 3 or fewer times: \", three_or_less_accepted)\n",
    "print(\"Number of coupons accepted by those who went to a bar more than 3: \", more_than_3_accpeted)\n",
    "acceptance_perecent_three_or_less = round(((three_or_less_accepted/total_bar_coupons)*100),2)\n",
    "acceptance_perecent_more_than_3 = round(((more_than_3_accpeted/total_bar_coupons)*100),2)\n",
    "percent_accpeted_coupons_for_less_than_3_visits = acceptance_perecent_three_or_less - acceptance_perecent_more_than_3\n",
    "print(\"Acceptance rate between those who went to a bar 3 or fewer times a month to those who went more had a higher \\nchance to accept the coupon by: \",percent_accpeted_coupons_for_less_than_3_visits)"
   ]
  },
  {
   "cell_type": "markdown",
   "metadata": {
    "id": "RBgcQwH4_qRK"
   },
   "source": [
    "4. Compare the acceptance rate between drivers who go to a bar more than once a month and are over the age of 25 to the all others.  Is there a difference?\n"
   ]
  },
  {
   "cell_type": "code",
   "execution_count": 324,
   "metadata": {
    "id": "bf28bbeX_qRK"
   },
   "outputs": [
    {
     "name": "stdout",
     "output_type": "stream",
     "text": [
      "Drivers who go to a bar more than once a month and are over the age of 25:  278\n",
      "Acceptance rate of drivers who go to a bar more than once a month and are over the age of 25: 14.53%\n",
      "All others who accepted the coupons:  510\n",
      "All others acceptance rate is: 26.66%\n"
     ]
    },
    {
     "name": "stderr",
     "output_type": "stream",
     "text": [
      "/var/folders/j9/drwy8ljd6r77zvbqgglkyflr0000gn/T/ipykernel_1348/3660736621.py:7: SettingWithCopyWarning: \n",
      "A value is trying to be set on a copy of a slice from a DataFrame.\n",
      "Try using .loc[row_indexer,col_indexer] = value instead\n",
      "\n",
      "See the caveats in the documentation: https://pandas.pydata.org/pandas-docs/stable/user_guide/indexing.html#returning-a-view-versus-a-copy\n",
      "  df4['age'] = df4['age'].astype(int)\n"
     ]
    }
   ],
   "source": [
    "more_than_once_per_month=['1~3','gt8', '4~8']\n",
    "df4 = bar_coupon_df[bar_coupon_df['Y']==1]\n",
    "\n",
    "df4.loc[df4['age'] == '50plus', 'age'] = '51'\n",
    "df4.loc[df4['age'] == 'below21', 'age'] ='20'\n",
    "\n",
    "df4['age'] = df4['age'].astype(int)\n",
    "\n",
    "\n",
    "more_than_once_over_25 = df4[(df4['age']>25) & (df4['Bar'].isin(more_than_once_per_month))].shape[0]\n",
    "print('Drivers who go to a bar more than once a month and are over the age of 25: ', more_than_once_over_25)\n",
    "more_than_once_over_25_acceptance_rate = round(((more_than_once_over_25/total_bar_coupons)*100),2)\n",
    "print('Acceptance rate of drivers who go to a bar more than once a month and are over the age of 25: '+ str(more_than_once_over_25_acceptance_rate)+'%')\n",
    "\n",
    "allothers = df4[(df4['age']>25) & ~(df4['Bar'].isin(more_than_once_per_month))].shape[0] + df4[(df4['age']<25)].shape[0]\n",
    "print('All others who accepted the coupons: ', allothers)\n",
    "allothers_acceptance_rate = round(((allothers/total_bar_coupons)*100),2)\n",
    "print('All others acceptance rate is: '+ str(allothers_acceptance_rate)+'%')\n"
   ]
  },
  {
   "cell_type": "code",
   "execution_count": null,
   "metadata": {},
   "outputs": [],
   "source": []
  },
  {
   "cell_type": "markdown",
   "metadata": {
    "id": "S4RKT4PJ_qRK"
   },
   "source": [
    "5. Use the same process to compare the acceptance rate between drivers who go to bars more than once a month and had passengers that were not a kid and had occupations other than farming, fishing, or forestry.\n"
   ]
  },
  {
   "cell_type": "code",
   "execution_count": 325,
   "metadata": {
    "id": "sENaI2Tg_qRK"
   },
   "outputs": [
    {
     "name": "stdout",
     "output_type": "stream",
     "text": [
      "Drivers who go to bars more than once a month and had passengers that \n",
      "were not a kid and had occupations other than farming, fishing, or forestry:  376\n",
      "Accptance rate of Drivers who go to bars more than once a month and had passengers that \n",
      "were not a kid and had occupations other than farming, fishing, or forestry: 19.65%\n"
     ]
    }
   ],
   "source": [
    "df5 = bar_coupon_df[bar_coupon_df['Y']==1]\n",
    "descoped_occupations = ['Farming Fishing & Forestry']\n",
    "kids = ['Kid(s)']\n",
    "df5['occupation'].value_counts()\n",
    "\n",
    "drivers_nokid_nofarmfishfores = df5[~(df5['occupation'].isin(descoped_occupations)) & ~(df5['passanger'].isin(kids)) & (df5['Bar'].isin(more_than_once_per_month))].shape[0]\n",
    "content1 = 'Drivers who go to bars more than once a month and had passengers that \\nwere not a kid and had occupations other than farming, fishing, or forestry: '\n",
    "print(content1, drivers_nokid_nofarmfishfores) \n",
    "drivers_nokid_nofarmfishfores_accep_rate = round(((drivers_nokid_nofarmfishfores/total_bar_coupons)*100),2)\n",
    "print('Accptance rate of '+content1+ str(drivers_nokid_nofarmfishfores_accep_rate)+'%')"
   ]
  },
  {
   "cell_type": "markdown",
   "metadata": {
    "id": "n2LIUTil_qRK"
   },
   "source": [
    "6. Compare the acceptance rates between those drivers who:\n",
    "\n",
    "- go to bars more than once a month, had passengers that were not a kid, and were not widowed *OR*\n",
    "- go to bars more than once a month and are under the age of 30 *OR*\n",
    "- go to cheap restaurants more than 4 times a month and income is less than 50K.\n",
    "\n"
   ]
  },
  {
   "cell_type": "code",
   "execution_count": 326,
   "metadata": {
    "id": "aK_wEzx7_qRK"
   },
   "outputs": [
    {
     "name": "stdout",
     "output_type": "stream",
     "text": [
      "Drivers who go to bars more than once a month, had passengers that were not a kid, and were not widowed:  376\n",
      "Acceptance rate of drivers who go to bars more than once a month, had passengers that were not a kid, \n",
      "and were not widowed: 19.65%\n",
      "Drivers who go to bars more than once a month and are under the age of 30:  236\n",
      "Acceptance rate of drivers who go to bars more than once a month and are under the age of 30: 12.34%\n",
      "Drivers who go to cheap restaurants more than 4 times a month and income is less than 50K:  152\n",
      "Acceptance rate of drivers who go to cheap restaurants more than 4 times a month and income is less than 50K: 7.95%\n"
     ]
    }
   ],
   "source": [
    "incomes=['$12500 - $24999','$37500 - $49999','Less than $12500','$25000 - $37499']\n",
    "marritalstaus=['Widowed']\n",
    "cheaprestvisits = ['4~8', 'gt8']\n",
    "nokid_notwidowed_onceormore = df4[(~(df4['maritalStatus'].isin(marritalstaus)) & ~(df4['passanger'].isin(kids)) & (df4['Bar'].isin(more_than_once_per_month)))].shape[0]\n",
    "print('Drivers who go to bars more than once a month, had passengers that were not a kid, and were not widowed: ', nokid_notwidowed_onceormore)\n",
    "drivers_nokid_notwidowed_onceormore_accep_rate = round(((nokid_notwidowed_onceormore/total_bar_coupons)*100),2)\n",
    "print('Acceptance rate of drivers who go to bars more than once a month, had passengers that were not a kid, \\nand were not widowed: '+str(drivers_nokid_notwidowed_onceormore_accep_rate)+'%')\n",
    "\n",
    "onceormore_above30 = df4[ (df4['Bar'].isin(more_than_once_per_month)) & (df4['age']<30)].shape[0]\n",
    "print('Drivers who go to bars more than once a month and are under the age of 30: ',onceormore_above30)\n",
    "drivers_onceormore_above30_accep_rate = round(((onceormore_above30/total_bar_coupons)*100),2)\n",
    "print('Acceptance rate of drivers who go to bars more than once a month and are under the age of 30: '+str(drivers_onceormore_above30_accep_rate)+'%')\n",
    "\n",
    "cheap_restu_morethan4_lessthan50k = df4[(df4['income'].isin(incomes)) & (df4['RestaurantLessThan20'].isin(cheaprestvisits))].shape[0]\n",
    "print('Drivers who go to cheap restaurants more than 4 times a month and income is less than 50K: ', cheap_restu_morethan4_lessthan50k)\n",
    "cheap_restu_morethan4_lessthan50k_accep_rate = round(((cheap_restu_morethan4_lessthan50k/total_bar_coupons)*100),2)\n",
    "print('Acceptance rate of drivers who go to cheap restaurants more than 4 times a month and income is less than 50K: '+str(cheap_restu_morethan4_lessthan50k_accep_rate)+'%')"
   ]
  },
  {
   "cell_type": "markdown",
   "metadata": {
    "id": "v3fL3QkO_qRK"
   },
   "source": [
    "7.  Based on these observations, what do you hypothesize about drivers who accepted the bar coupons?"
   ]
  },
  {
   "cell_type": "code",
   "execution_count": 327,
   "metadata": {},
   "outputs": [
    {
     "name": "stdout",
     "output_type": "stream",
     "text": [
      "Drivers who go to bars more than once a month with kids as passengers:  16\n",
      "Drivers who go to bars more than once a month, between age 21 and 30, and had passengers \n",
      "that were not a kid:  225\n",
      "Drivers who accept coupons whose income is less than 50k:  413\n",
      "Drivers who accept coupons whose income is less than 40kk:  323\n"
     ]
    }
   ],
   "source": [
    "drivers_withkids = df4[((df4['passanger'].isin(kids)) & (df4['Bar'].isin(more_than_once_per_month)))].shape[0]\n",
    "print('Drivers who go to bars more than once a month with kids as passengers: ',drivers_withkids) \n",
    "drivers_age_21_and_30_no_kids = df4[(df4['age'].between(21,30) & ~(df4['passanger'].isin(kids)) & (df4['Bar'].isin(more_than_once_per_month)))].shape[0]\n",
    "print('Drivers who go to bars more than once a month, between age 21 and 30, and had passengers \\nthat were not a kid: ', drivers_age_21_and_30_no_kids)\n",
    "drivers_with_income_lessthan50k = df4[df4['income'].isin(incomes)].shape[0]\n",
    "print('Drivers who accept coupons whose income is less than 50k: ',drivers_with_income_lessthan50k)\n",
    "drivers_with_income_lessthan40k = df4[df4['income'].isin(['Less than $12500','$12500 - $24999','$25000 - $37499'])].shape[0]\n",
    "print('Drivers who accept coupons whose income is less than 40kk: ',drivers_with_income_lessthan40k)"
   ]
  },
  {
   "cell_type": "code",
   "execution_count": 328,
   "metadata": {
    "id": "Y48naDFh_qRL"
   },
   "outputs": [
    {
     "ename": "SyntaxError",
     "evalue": "invalid syntax (3178803502.py, line 1)",
     "output_type": "error",
     "traceback": [
      "\u001b[0;36m  Cell \u001b[0;32mIn[328], line 1\u001b[0;36m\u001b[0m\n\u001b[0;31m    Based on the observations, drivers who are above the age of 25 years, mostly without kids as passengers, and\u001b[0m\n\u001b[0m          ^\u001b[0m\n\u001b[0;31mSyntaxError\u001b[0m\u001b[0;31m:\u001b[0m invalid syntax\n"
     ]
    }
   ],
   "source": [
    "Based on the observations, drivers who are above the age of 25 years, mostly without kids as passengers, and \n",
    "who are widowed are likely to accept the coupons.\n",
    "\n",
    "The acceptance of coupons for bar increases as the drivers income range increases\n",
    "\n",
    "As expected, drivers with kids as passengers are least likely to accept the coupons\n",
    "\n"
   ]
  },
  {
   "cell_type": "markdown",
   "metadata": {
    "id": "r4Hu1zOb_qRL"
   },
   "source": [
    "### Independent Investigation\n",
    "\n",
    "Using the bar coupon example as motivation, you are to explore one of the other coupon groups and try to determine the characteristics of passengers who accept the coupons.  "
   ]
  },
  {
   "cell_type": "code",
   "execution_count": 329,
   "metadata": {
    "id": "0c71cQhu_qRL"
   },
   "outputs": [
    {
     "name": "stdout",
     "output_type": "stream",
     "text": [
      "Total take out coupons:  2280\n",
      "Total take out coupons that were accepted:  1682\n"
     ]
    }
   ],
   "source": [
    "# Evaluate data for Carry out & Take away coupon\n",
    "take_out_coupons = data_cleaned[data_cleaned['coupon']=='Carry out & Take away']\n",
    "total_take_out_coupons = take_out_coupons.shape[0]\n",
    "print('Total take out coupons: ', take_out_coupons.shape[0]) \n",
    "take_out_coupons_accep = take_out_coupons[take_out_coupons['Y']==1]\n",
    "print('Total take out coupons that were accepted: ', take_out_coupons_accep.shape[0])"
   ]
  },
  {
   "cell_type": "code",
   "execution_count": 371,
   "metadata": {
    "id": "QEsBkvIN_qRL"
   },
   "outputs": [
    {
     "data": {
      "image/png": "[encoded data removed]",
      "text/plain": [
       "<Figure size 1500x600 with 1 Axes>"
      ]
     },
     "metadata": {},
     "output_type": "display_data"
    }
   ],
   "source": [
    "# Count plot for Carry out & Take away\n",
    "plt.figure(figsize=(15,6))\n",
    "sns.countplot(data = take_out_coupons_accep,  x='income')\n",
    "plt.title('Carry out & Take away coupons acceptance for different income ranges')\n",
    "plt.savefig('images/carryout_acceptance_incomeranges')\n",
    "plt.show()"
   ]
  },
  {
   "cell_type": "code",
   "execution_count": 372,
   "metadata": {
    "id": "fTC2WGE3_qRL"
   },
   "outputs": [
    {
     "data": {
      "image/png": "[encoded data removed]",
      "text/plain": [
       "<Figure size 1500x600 with 1 Axes>"
      ]
     },
     "metadata": {},
     "output_type": "display_data"
    }
   ],
   "source": [
    "plt.figure(figsize=(15,6))\n",
    "sns.histplot(data = take_out_coupons_accep, x='maritalStatus', kde=True)\n",
    "plt.title('Carry out & Take away coupon acceptance for different marital status')\n",
    "plt.savefig('images/carryout_acceptance_maritalstatus')\n",
    "plt.show()"
   ]
  },
  {
   "cell_type": "code",
   "execution_count": 332,
   "metadata": {
    "id": "RrqUWn7d_qRL"
   },
   "outputs": [
    {
     "name": "stdout",
     "output_type": "stream",
     "text": [
      "Driver who accepted coupons with kids in passengers:  142\n",
      "Drivers who accepted coupons to cheaper restaurants when they had kids as passengers:  115\n",
      "Drivers who accepted coupons to non cheaper restaurants when they did not have kids as passengers:  27\n"
     ]
    }
   ],
   "source": [
    "# Evaluting acceptance rate of Carry out & Take away coupons based on kids \n",
    "# as passengers\n",
    "\n",
    "df7 =  take_out_coupons\n",
    "df7['RestaurantLessThan20'].unique()\n",
    "cheaprest_morethanonce = ['4~8', '1~3', 'gt8']\n",
    "\n",
    "drivers_withkids = df7[df7['passanger'].isin(kids)].shape[0]\n",
    "print('Driver who accepted coupons with kids in passengers: ', drivers_withkids)\n",
    "\n",
    "drivers_morethanonce_withkids = df7[(df7['passanger'].isin(kids)) & (df7['RestaurantLessThan20'].isin(cheaprest_morethanonce))].shape[0]\n",
    "print('Drivers who accepted coupons to cheaper restaurants when they had kids as passengers: ', drivers_morethanonce_withkids)\n",
    "\n",
    "drivers_morethanonce_nokids =  df7[(df7['passanger'].isin(kids)) & ~(df7['RestaurantLessThan20'].isin(cheaprest_morethanonce))].shape[0]\n",
    "print('Drivers who accepted coupons to non cheaper restaurants when they did not have kids as passengers: ', drivers_morethanonce_nokids)"
   ]
  },
  {
   "cell_type": "code",
   "execution_count": 355,
   "metadata": {
    "id": "_oykf8YP_qRL"
   },
   "outputs": [
    {
     "name": "stdout",
     "output_type": "stream",
     "text": [
      "Total Coffee house coupons:  3816\n",
      "Total Coffee house coupons that were accepted:  1894\n",
      "Overall Coffee house coupons acceptance rate: 49.63%\n"
     ]
    }
   ],
   "source": [
    "df8 = data_cleaned[data_cleaned['coupon']=='Coffee House']\n",
    "total_coffeehouse_coupons = df8.shape[0]\n",
    "df9 = coffeehouse_coupons[coffeehouse_coupons['Y']==1]\n",
    "total_coffeehouse_coupons_accept = df9.shape[0]\n",
    "print('Total Coffee house coupons: ', total_coffeehouse_coupons)\n",
    "print('Total Coffee house coupons that were accepted: ', total_coffeehouse_coupons_accept)\n",
    "overall_accept_rate = round(((total_coffeehouse_coupons_accept/total_coffeehouse_coupons)*100),2)\n",
    "print('Overall Coffee house coupons acceptance rate: '+ str(overall_accept_rate)+\"%\")"
   ]
  },
  {
   "cell_type": "code",
   "execution_count": 356,
   "metadata": {},
   "outputs": [
    {
     "name": "stdout",
     "output_type": "stream",
     "text": [
      "Drivers who accept coffee coupon at high temp:  1211\n",
      "Coffee house coupons acceptance rate at high temp: 31.73%\n"
     ]
    }
   ],
   "source": [
    "# Evaluation of acceptance rate of coffee coupons at high temperature\n",
    "coffee_accept_high_temp80 = df9[(df9['temperature'].isin([80]))].shape[0]\n",
    "print('Drivers who accept coffee coupon at high temp: ', coffee_accept_high_temp80)\n",
    "accept_rate_temp80 = round(((coffee_accept_high_temp80/total_coffeehouse_coupons)*100),2)\n",
    "print('Coffee house coupons acceptance rate at high temp: '+ str(accept_rate_temp80)+\"%\")"
   ]
  },
  {
   "cell_type": "code",
   "execution_count": 357,
   "metadata": {},
   "outputs": [
    {
     "name": "stdout",
     "output_type": "stream",
     "text": [
      "Drivers who accept coffee coupon at low and moderate temp:  683\n",
      "Coffee house coupons acceptance rate at low and moderate temp: 17.9%\n"
     ]
    }
   ],
   "source": [
    "# Evaluation of acceptance rate of coffee coupons at low and moderate temperature\n",
    "coffee_accept_low_moderate = df9[(df9['temperature'].isin([30,55]))].shape[0]\n",
    "print('Drivers who accept coffee coupon at low and moderate temp: ', coffee_accept_low_moderate)\n",
    "accept_rate_low_moderate_temp = round(((coffee_accept_low_moderate/total_coffeehouse_coupons)*100),2)\n",
    "print('Coffee house coupons acceptance rate at low and moderate temp: '+ str(accept_rate_low_moderate_temp)+\"%\")"
   ]
  },
  {
   "cell_type": "code",
   "execution_count": 359,
   "metadata": {},
   "outputs": [
    {
     "name": "stdout",
     "output_type": "stream",
     "text": [
      "Difference in acceptance of coffee coupons at high vs low and moderate temperature is 14%\n"
     ]
    }
   ],
   "source": [
    "print('Difference in acceptance of coffee coupons at high vs low and moderate temperature is '+ str(round(accept_rate_temp80-accept_rate_low_moderate_temp))+'%')"
   ]
  },
  {
   "cell_type": "code",
   "execution_count": null,
   "metadata": {},
   "outputs": [],
   "source": []
  }
 ],
 "metadata": {
  "colab": {
   "provenance": []
  },
  "kernelspec": {
   "display_name": "Python [conda env:base] *",
   "language": "python",
   "name": "conda-base-py"
  },
  "language_info": {
   "codemirror_mode": {
    "name": "ipython",
    "version": 3
   },
   "file_extension": ".py",
   "mimetype": "text/x-python",
   "name": "python",
   "nbconvert_exporter": "python",
   "pygments_lexer": "ipython3",
   "version": "3.12.7"
  }
 },
 "nbformat": 4,
 "nbformat_minor": 4
}
